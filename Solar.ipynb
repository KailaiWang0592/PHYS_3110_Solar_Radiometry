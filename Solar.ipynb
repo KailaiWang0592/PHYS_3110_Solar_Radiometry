{
 "cells": [
  {
   "cell_type": "code",
   "execution_count": 16,
   "id": "344ac9cb",
   "metadata": {},
   "outputs": [],
   "source": [
    "import numpy as np\n",
    "import matplotlib.pyplot as plt\n",
    "from sklearn.linear_model import LinearRegression"
   ]
  },
  {
   "cell_type": "markdown",
   "id": "c509f7fd",
   "metadata": {},
   "source": [
    "Room Temperature Calculation"
   ]
  },
  {
   "cell_type": "code",
   "execution_count": 17,
   "id": "fcf43dc5",
   "metadata": {},
   "outputs": [],
   "source": [
    "D_room = np.array([7.1,8.6,22.1,35.0,46.7])\n",
    "D_room_err = np.array([0.05,0.05,0.05,0.05,0.05])\n",
    "\n",
    "x=np.array([-10,-9,-6,-3,0])\n",
    "x_new=np.array(x).reshape((-1, 1))\n"
   ]
  },
  {
   "cell_type": "code",
   "execution_count": null,
   "id": "53bc38a4",
   "metadata": {},
   "outputs": [],
   "source": []
  },
  {
   "cell_type": "code",
   "execution_count": 18,
   "id": "1f298692",
   "metadata": {},
   "outputs": [],
   "source": [
    "model = LinearRegression().fit(x_new, D_room)\n",
    "r_sq = model.score(x_new, D_room)"
   ]
  },
  {
   "cell_type": "code",
   "execution_count": 19,
   "id": "39624f33",
   "metadata": {},
   "outputs": [
    {
     "name": "stdout",
     "output_type": "stream",
     "text": [
      "coefficient of determination: 0.9968793823557576\n",
      "intercept: 46.81791907514451\n",
      "slope: [4.09248555]\n"
     ]
    }
   ],
   "source": [
    "print(f\"coefficient of determination: {r_sq}\")\n",
    "inter=model.intercept_\n",
    "inter=46.7\n",
    "print(f\"intercept: {model.intercept_}\")\n",
    "slope=model.coef_\n",
    "print(f\"slope: {model.coef_}\")"
   ]
  },
  {
   "cell_type": "code",
   "execution_count": 20,
   "id": "8435acfb",
   "metadata": {},
   "outputs": [
    {
     "data": {
      "image/png": "[encoded data removed]",
      "text/plain": [
       "<Figure size 432x288 with 1 Axes>"
      ]
     },
     "metadata": {
      "needs_background": "light"
     },
     "output_type": "display_data"
    }
   ],
   "source": [
    "plt.scatter(x,D_room)\n",
    "\n",
    "x_fit=np.arange(-10,0,step=0.1)\n",
    "y_fit=inter+slope*x_fit\n",
    "\n",
    "plt.plot(x_fit,y_fit,color=\"green\",label=\"a=\" +str(np.round(inter,4)) + \"; b=\" + str(np.round(float(slope),4))) \n",
    "plt.xlabel(\"attenuation (dB)\")\n",
    "plt.ylabel(\"Detector Output (W)\")\n",
    "\n",
    "plt.title(\"Fitting Room Temperature Measurements to find slope\")\n",
    "plt.legend()\n",
    "plt.show()\n"
   ]
  },
  {
   "cell_type": "code",
   "execution_count": 21,
   "id": "dca134e4",
   "metadata": {},
   "outputs": [
    {
     "name": "stdout",
     "output_type": "stream",
     "text": [
      "with error\n"
     ]
    },
    {
     "data": {
      "image/png": "[encoded data removed]",
      "text/plain": [
       "<Figure size 432x288 with 1 Axes>"
      ]
     },
     "metadata": {
      "needs_background": "light"
     },
     "output_type": "display_data"
    }
   ],
   "source": [
    "plt.errorbar(x,D_room,yerr=D_room_err,fmt='.',label=\"data\")\n",
    "plt.plot(x_fit,y_fit,color=\"green\",label=\"a=\" +str(np.round(inter,4)) + \"; b=\" + str(np.round(float(slope),4)))\n",
    "print(\"with error\")"
   ]
  },
  {
   "cell_type": "code",
   "execution_count": null,
   "id": "dddc3b06",
   "metadata": {},
   "outputs": [],
   "source": []
  },
  {
   "cell_type": "markdown",
   "id": "71a5e853",
   "metadata": {},
   "source": [
    "CMB"
   ]
  },
  {
   "cell_type": "code",
   "execution_count": 28,
   "id": "e93f8b94",
   "metadata": {},
   "outputs": [],
   "source": [
    "CMB = np.array([2.4,2.5,3.3,9.8,23.5])\n",
    "#D_room_err = np.array([0.05,0.05,0.05,0.05,0.05])\n",
    "\n",
    "x=np.array([-10,-9,-6,-3,0])\n",
    "x_new=np.array(x).reshape((-1, 1))\n"
   ]
  },
  {
   "cell_type": "code",
   "execution_count": 29,
   "id": "4837ce51",
   "metadata": {},
   "outputs": [
    {
     "ename": "TypeError",
     "evalue": "fit() got an unexpected keyword argument 'fit_intercept'",
     "output_type": "error",
     "traceback": [
      "\u001b[0;31m---------------------------------------------------------------------------\u001b[0m",
      "\u001b[0;31mTypeError\u001b[0m                                 Traceback (most recent call last)",
      "\u001b[0;32m<ipython-input-29-f635ab84ebc1>\u001b[0m in \u001b[0;36m<module>\u001b[0;34m\u001b[0m\n\u001b[0;32m----> 1\u001b[0;31m \u001b[0mmodel\u001b[0m \u001b[0;34m=\u001b[0m \u001b[0mLinearRegression\u001b[0m\u001b[0;34m(\u001b[0m\u001b[0;34m)\u001b[0m\u001b[0;34m.\u001b[0m\u001b[0mfit\u001b[0m\u001b[0;34m(\u001b[0m\u001b[0mx_new\u001b[0m\u001b[0;34m,\u001b[0m \u001b[0mCMB\u001b[0m\u001b[0;34m,\u001b[0m\u001b[0mfit_intercept\u001b[0m\u001b[0;34m=\u001b[0m\u001b[0;32mTrue\u001b[0m\u001b[0;34m)\u001b[0m\u001b[0;34m\u001b[0m\u001b[0;34m\u001b[0m\u001b[0m\n\u001b[0m\u001b[1;32m      2\u001b[0m \u001b[0mr_sq\u001b[0m \u001b[0;34m=\u001b[0m \u001b[0mmodel\u001b[0m\u001b[0;34m.\u001b[0m\u001b[0mscore\u001b[0m\u001b[0;34m(\u001b[0m\u001b[0mx_new\u001b[0m\u001b[0;34m,\u001b[0m \u001b[0mCMB\u001b[0m\u001b[0;34m)\u001b[0m\u001b[0;34m\u001b[0m\u001b[0;34m\u001b[0m\u001b[0m\n",
      "\u001b[0;31mTypeError\u001b[0m: fit() got an unexpected keyword argument 'fit_intercept'"
     ]
    }
   ],
   "source": [
    "model = LinearRegression().fit(x_new, CMB)\n",
    "r_sq = model.score(x_new, CMB)"
   ]
  },
  {
   "cell_type": "code",
   "execution_count": 30,
   "id": "cc9d81fb",
   "metadata": {},
   "outputs": [
    {
     "name": "stdout",
     "output_type": "stream",
     "text": [
      "coefficient of determination: 0.8264729234430445\n",
      "intercept: 19.36242774566474\n",
      "slope: [1.97543353]\n"
     ]
    }
   ],
   "source": [
    "print(f\"coefficient of determination: {r_sq}\")\n",
    "inter=model.intercept_\n",
    "print(f\"intercept: {model.intercept_}\")\n",
    "slope=model.coef_\n",
    "print(f\"slope: {model.coef_}\")"
   ]
  },
  {
   "cell_type": "code",
   "execution_count": null,
   "id": "fb9e5bfe",
   "metadata": {},
   "outputs": [],
   "source": []
  },
  {
   "cell_type": "code",
   "execution_count": 31,
   "id": "e579630c",
   "metadata": {},
   "outputs": [
    {
     "data": {
      "image/png": "[encoded data removed]",
      "text/plain": [
       "<Figure size 432x288 with 1 Axes>"
      ]
     },
     "metadata": {
      "needs_background": "light"
     },
     "output_type": "display_data"
    }
   ],
   "source": [
    "plt.scatter(x,CMB)\n",
    "\n",
    "x_fit=np.arange(-10,0,step=0.1)\n",
    "y_fit=inter+slope*x_fit\n",
    "\n",
    "plt.plot(x_fit,y_fit,color=\"green\",label=\"a=\" +str(np.round(inter,4)) + \"; b=\" + str(np.round(float(slope),4))) \n",
    "plt.xlabel(\"attenuation (dB)\")\n",
    "plt.ylabel(\"Detector Output (W)\")\n",
    "\n",
    "plt.title(\"Fitting Emtpy Sky (CMB) Measurements\")\n",
    "plt.legend()\n",
    "plt.show()\n"
   ]
  },
  {
   "cell_type": "code",
   "execution_count": 38,
   "id": "5a652267",
   "metadata": {},
   "outputs": [
    {
     "name": "stdout",
     "output_type": "stream",
     "text": [
      "136.73999999999998\n"
     ]
    }
   ],
   "source": [
    "def my_fun(inter_mu):\n",
    "    \n",
    "    inter=23.5\n",
    "    mu=inter_mu[1]\n",
    "    \n",
    "    CMB = np.array([2.4,2.5,3.3,9.8,23.5])\n",
    "\n",
    "    x=np.array([-10,-9,-6,-3,0])\n",
    "    x_new=np.array(x).reshape((-1, 1))\n",
    "\n",
    "    \n",
    "    model=inter+mu*x\n",
    "    \n",
    "    result=0\n",
    "    for i in range(0,len(x)):\n",
    "        result+=(CMB[i]-model[i])**2\n",
    "\n",
    "    \n",
    "\n",
    "    return result\n",
    "    \n",
    "\n",
    "z=my_fun(inter_mu=[23.5, 2])\n",
    "\n",
    "print(z)"
   ]
  },
  {
   "cell_type": "code",
   "execution_count": 42,
   "id": "8211153a",
   "metadata": {},
   "outputs": [
    {
     "name": "stdout",
     "output_type": "stream",
     "text": [
      "     fun: 82.90774336283188\n",
      "     jac: array([0.00000000e+00, 9.53674316e-07])\n",
      " message: 'Optimization terminated successfully'\n",
      "    nfev: 9\n",
      "     nit: 2\n",
      "    njev: 2\n",
      "  status: 0\n",
      " success: True\n",
      "       x: array([23.5       ,  2.48805309])\n"
     ]
    }
   ],
   "source": [
    "import scipy\n",
    "\n",
    "x0=[23.5,2]\n",
    "\n",
    "print(scipy.optimize.minimize(my_fun,x0,method=\"SLSQP\"))\n",
    "#print(\"Al Chi^2 minimization: chi^2=1.1003383527890525, intercept=0.04061259, mu=0.18592093\")"
   ]
  },
  {
   "cell_type": "code",
   "execution_count": 45,
   "id": "71206dd8",
   "metadata": {},
   "outputs": [
    {
     "data": {
      "image/png": "[encoded data removed]",
      "text/plain": [
       "<Figure size 432x288 with 1 Axes>"
      ]
     },
     "metadata": {
      "needs_background": "light"
     },
     "output_type": "display_data"
    }
   ],
   "source": [
    "inter_fit=23.5\n",
    "slope_fit=2.48805\n",
    "\n",
    "plt.scatter(x,CMB)\n",
    "\n",
    "x_fit=np.arange(-10,0,step=0.1)\n",
    "y_fit=inter_fit+slope_fit*x_fit\n",
    "\n",
    "plt.plot(x_fit,y_fit,color=\"green\",label=\"a=\" +str(np.round(inter_fit,4)) + \"; b=\" + str(np.round(float(slope_fit),4))) \n",
    "plt.xlabel(\"attenuation (dB)\")\n",
    "plt.ylabel(\"Detector Output (W)\")\n",
    "\n",
    "plt.title(\"Fitting Emtpy Sky (CMB) Measurements\")\n",
    "plt.legend()\n",
    "plt.show()\n"
   ]
  },
  {
   "cell_type": "code",
   "execution_count": 48,
   "id": "41657bb7",
   "metadata": {},
   "outputs": [
    {
     "name": "stdout",
     "output_type": "stream",
     "text": [
      "[-10  -9  -6  -3   0]\n",
      "[-1.3805   1.10755  8.5717  16.03585 23.5    ]\n"
     ]
    }
   ],
   "source": [
    "CMB_fitted=slope_fit*x+inter_fit\n",
    "print(x)\n",
    "print(CMB_fitted)"
   ]
  },
  {
   "cell_type": "code",
   "execution_count": null,
   "id": "ec36f74c",
   "metadata": {},
   "outputs": [],
   "source": []
  }
 ],
 "metadata": {
  "kernelspec": {
   "display_name": "Python 3",
   "language": "python",
   "name": "python3"
  },
  "language_info": {
   "codemirror_mode": {
    "name": "ipython",
    "version": 3
   },
   "file_extension": ".py",
   "mimetype": "text/x-python",
   "name": "python",
   "nbconvert_exporter": "python",
   "pygments_lexer": "ipython3",
   "version": "3.8.8"
  }
 },
 "nbformat": 4,
 "nbformat_minor": 5
}
